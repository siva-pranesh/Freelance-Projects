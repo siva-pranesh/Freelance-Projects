{
 "cells": [
  {
   "cell_type": "markdown",
   "id": "d0124ec0",
   "metadata": {},
   "source": [
    "### Project Goal : Code Optimization (Improve the speed of code execution by 10X)"
   ]
  },
  {
   "cell_type": "code",
   "execution_count": 62,
   "id": "b580bb23",
   "metadata": {},
   "outputs": [],
   "source": [
    "#### Author    : Siva Pranesh\n",
    "#### Author_id : sivapranesh.contact@gmail.com"
   ]
  },
  {
   "cell_type": "code",
   "execution_count": 57,
   "id": "14e61159",
   "metadata": {},
   "outputs": [
    {
     "name": "stdout",
     "output_type": "stream",
     "text": [
      "C:\\Users\\91909\\Desktop\\csv_files\n"
     ]
    }
   ],
   "source": [
    "cd \"C:\\Users\\91909\\Desktop\\csv_files\""
   ]
  },
  {
   "cell_type": "code",
   "execution_count": 64,
   "id": "8970457a",
   "metadata": {},
   "outputs": [
    {
     "name": "stdout",
     "output_type": "stream",
     "text": [
      "--- 17.88 seconds ---\n"
     ]
    }
   ],
   "source": [
    "# The actual code from the client\n",
    "\n",
    "import pandas as pd\n",
    "import numpy as np\n",
    "import time\n",
    "\n",
    "start_time = time.time()\n",
    "\n",
    "traits_dataframe = pd.read_csv('traits_1.csv', index_col=[0])\n",
    "rarity_dataframe = pd.read_csv('rarity_1.csv', index_col=[0])\n",
    "traits_dataframe['total_score'] = np.nan\n",
    "\n",
    "index = 0\n",
    "\n",
    "for row in traits_dataframe.iterrows():\n",
    "    score = 0\n",
    "    for col in range(3, len(traits_dataframe.columns) - 1):\n",
    "        if (str(row[1][col]) == 'nan'):\n",
    "            continue\n",
    "        else:\n",
    "            col_name = traits_dataframe.columns[col]\n",
    "            col_value = row[1][col]\n",
    "            score = score + float(rarity_dataframe.loc[(rarity_dataframe.trait_type == col_name) & (\n",
    "                    rarity_dataframe.value == str(col_value)), 'rarity'])\n",
    "    traits_dataframe.loc[row[0], 'total_score'] = score\n",
    "    index = index + 1\n",
    "\n",
    "# sort highest score first\n",
    "traits_dataframe = traits_dataframe.sort_values('total_score', ascending=False)\n",
    "\n",
    "traits_dataframe.to_csv('score.csv')\n",
    "\n",
    "print(\"--- %s seconds ---\" % round(float((time.time() - start_time)),2))"
   ]
  },
  {
   "cell_type": "code",
   "execution_count": 56,
   "id": "f456608c",
   "metadata": {},
   "outputs": [
    {
     "name": "stdout",
     "output_type": "stream",
     "text": [
      "--- 0.14 seconds ---\n"
     ]
    }
   ],
   "source": [
    "# Code Optimization script- 115X faster\n",
    "\n",
    "# Importing necessary libraries\n",
    "import pandas as pd\n",
    "import time\n",
    "\n",
    "# Using time module to calculate time.\n",
    "start_time = time.time()\n",
    "\n",
    "# Importng files\n",
    "traits_dataframe = pd.read_csv('traits_3.csv', index_col=[0])\n",
    "rarity_dataframe = pd.read_csv('rarity_3.csv', index_col=[0])\n",
    "\n",
    "# Concatenating two columns and creating unique dictionary.\n",
    "rarity_dataframe['concat'] = rarity_dataframe['trait_type'] + rarity_dataframe['value']\n",
    "temp_dict = rarity_dataframe.set_index('concat')['rarity'].to_dict()\n",
    "\n",
    "# Creating temp columns to look up the value from dictionary.\n",
    "colnum = len(traits_dataframe.columns[3:])\n",
    "for i in traits_dataframe.columns[3:]:\n",
    "    traits_dataframe[str(i)+str('_temp')] = str(i) + traits_dataframe[i]\n",
    "\n",
    "# Adding new columns include the respective attributes score.\n",
    "for j in traits_dataframe.columns[colnum+3:]:\n",
    "    traits_dataframe['score_'+str(j)] = traits_dataframe[j].map(temp_dict)\n",
    "\n",
    "# Summarion of the scores in a final total column\n",
    "cols_to_sum = traits_dataframe.columns[(colnum*2)+3:] \n",
    "traits_dataframe['total_score'] =  traits_dataframe[cols_to_sum].sum(axis=1)\n",
    "\n",
    "# Dropping all the temp columns\n",
    "cols_to_drop = traits_dataframe.columns[colnum+3:-1] \n",
    "traits_dataframe.drop(labels=cols_to_drop,axis=1,inplace=True)\n",
    "\n",
    "# Sorting and exporting the results\n",
    "traits_dataframe = traits_dataframe.sort_values('total_score', ascending=False)\n",
    "traits_dataframe.to_csv('score.csv')\n",
    "\n",
    "# Reviewing the final time taken by the code.\n",
    "end_time = time.time()\n",
    "print(\"--- %s seconds ---\" % round(float((end_time - start_time)),2))"
   ]
  },
  {
   "cell_type": "markdown",
   "id": "e65cb911",
   "metadata": {},
   "source": [
    "### Project Output : Improved the speed of  execution by 115X."
   ]
  }
 ],
 "metadata": {
  "kernelspec": {
   "display_name": "Python 3",
   "language": "python",
   "name": "python3"
  },
  "language_info": {
   "codemirror_mode": {
    "name": "ipython",
    "version": 3
   },
   "file_extension": ".py",
   "mimetype": "text/x-python",
   "name": "python",
   "nbconvert_exporter": "python",
   "pygments_lexer": "ipython3",
   "version": "3.8.8"
  }
 },
 "nbformat": 4,
 "nbformat_minor": 5
}
